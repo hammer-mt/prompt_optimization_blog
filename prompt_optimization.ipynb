{
 "cells": [
  {
   "cell_type": "markdown",
   "metadata": {},
   "source": [
    "## Prompt Optimization\n",
    "\n",
    "[Read the full post](https://www.saxifrage.xyz/prompt-optimization)\n"
   ]
  },
  {
   "cell_type": "code",
   "execution_count": 36,
   "metadata": {},
   "outputs": [
    {
     "name": "stdout",
     "output_type": "stream",
     "text": [
      "Value-based pricing is a strategy which sets prices primarily, but not exclusively, on the value, perceived or estimated, to the customer rather than on the cost of the product, the market price, competitors' prices, or historical trends. The primary aim of a value-based pricing approach is to break free from cost-plus pricing and focus on the value that a product or service delivers to a customer.\n",
      "\n",
      "In value-based pricing, a business conducts research to understand how customers value their product, what features are most important to customers, and how they rank against competitive offerings. For example, if a software company finds out that their product saves an average customer 10 hours a month, they might price their product based on a portion of how much that time is worth to the customer. \n",
      "\n",
      "The steps in implementing a value-based pricing strategy typically include:\n",
      "\n",
      "1. **Understanding the Customer**: The company needs to understand the target market, and what they value in a product or service. This could include conducting surveys or interviews, studying market trends, or analyzing competitors.\n",
      "\n",
      "2. **Quantifying Value**: The next step is to quantify the value the product offers. This could be in terms of time saved, cost reductions, or other measurable benefits.\n",
      "\n",
      "3. **Set Price**: The price is then set based on this value. For instance, if the product saves a customer $100, the price could be set at $50, offering the customer a clear net benefit.\n",
      "\n",
      "4. **Communicate Value**: The company must then effectively communicate this value to customers. This could be done through marketing, sales pitches, or other methods of communication.\n",
      "\n",
      "5. **Review**: Finally, the price must be regularly reviewed and adjusted based on changes in the market or the value the product provides.\n",
      "\n",
      "Value-based pricing has the potential to increase profitability, as it allows a company to charge more for its product. However, it also requires a deep understanding of customers' perceived value, and it might be more challenging to implement than other pricing strategies due to the need for extensive market research and continuous updates.\n"
     ]
    }
   ],
   "source": [
    "# Load in the input text file\n",
    "with open('texts/input_text.txt', 'r') as file:\n",
    "    text = file.read()\n",
    "\n",
    "# Print the text\n",
    "print(text)"
   ]
  },
  {
   "cell_type": "code",
   "execution_count": 37,
   "metadata": {},
   "outputs": [
    {
     "name": "stdout",
     "output_type": "stream",
     "text": [
      "There are three main ways to set your pricing strategy: cost, market, and value. Value-based pricing is where you base your price based on the estimated value you’re bringing to the business, rather than what competitors are charging, or what it costs you to deliver the service. The main benefit being that you can potentially charge a lot more this way.\n",
      "\n",
      "In order to execute this pricing strategy, you need to research how customers value your product, what features are most important, and how you might rethink your positioning to move up the value chain. For example, if your software saves customers $10k per month, you can charge say 1/10th of that and the customer will still be happy, even if your software only costs you pennies to run.\n",
      "\n",
      "Technical founders will often just take the cost and add 10%, which in software severely underprices your offering. Pricing based on market value, i.e. undercutting your main competitor by 10%, can also be a problem, because there’s nothing stopping them from cutting their prices too, starting a bidding war. Ideally you differentiate your product in some way in order to serve some segment of the market that won’t treat you like a commodity. \n",
      "\n",
      "Here’s how to implement a value-based pricing strategy:\n",
      "\n",
      "Research: You need a deep understanding of the target market, or for large deals an intimate relationship with multiple stakeholders in the company.\n",
      "Estimate: Quantify the value the product offers in terms of time saved, cost reductions, or avoiding risk. No need to be super accurate, just within a reasonable range.\n",
      "Capture: Set the price as some fraction of the value created. For example, if you generate $10k in value, nobody will blink twice at paying you $1k.\n",
      "Communicate: How much they’ll be willing to pay will depend entirely on your ability to communicate the business case, and defend your price against challenges.\n",
      "Review: Your market (and product) are in constant flux, so you need to make regular adjustments. If you aren’t losing 1/3rd of your deals on price, you’re undercharging.\n",
      "\n",
      "Value-based pricing has the potential to greatly increase your profits, which is why all the business gurus recommend it. However, it’s a lot more challenging and time-consuming to implement and can be disastrous when you get it wrong. It’s hard to know how much value you can deliver, so you could be left dealing with the fallout of accidentally overcharging, or cash flow issues from unprofitable customers you’re over-servicing.\n",
      "\n",
      "In sectors where the perceived value is significantly higher than the actual cost, or where a company holds a monopoly, value-based pricing can work effectively. However, in competitive markets where your brand is not well-known or where others can easily replicate your services, this pricing strategy can be more challenging to implement. \n",
      "\n"
     ]
    }
   ],
   "source": [
    "# Load in the reference file we manually wrote\n",
    "with open('texts/reference.txt', 'r') as file:\n",
    "    reference = file.read()\n",
    "\n",
    "# Print the reference text\n",
    "print(reference)\n"
   ]
  },
  {
   "cell_type": "code",
   "execution_count": 38,
   "metadata": {},
   "outputs": [
    {
     "name": "stdout",
     "output_type": "stream",
     "text": [
      "[SystemMessage(content='You will provided with the sample text.\\nYour task is to rewrite the text into a different writing style.\\nThe writing style is: \\n- Concise and to the point\\n- Professional and knowledgeable tone\\n- Relatable and accessible language\\n- Uses storytelling to convey ideas\\n- Relies on examples and case studies\\n- Mixes personal anecdotes with industry insights\\n- Provides actionable advice and tips\\n- Uses subheadings and bullet points for easy readability\\n', additional_kwargs={}), HumanMessage(content=\"Value-based pricing is a strategy which sets prices primarily, but not exclusively, on the value, perceived or estimated, to the customer rather than on the cost of the product, the market price, competitors' prices, or historical trends. The primary aim of a value-based pricing approach is to break free from cost-plus pricing and focus on the value that a product or service delivers to a customer.\\n\\nIn value-based pricing, a business conducts research to understand how customers value their product, what features are most important to customers, and how they rank against competitive offerings. For example, if a software company finds out that their product saves an average customer 10 hours a month, they might price their product based on a portion of how much that time is worth to the customer. \\n\\nThe steps in implementing a value-based pricing strategy typically include:\\n\\n1. **Understanding the Customer**: The company needs to understand the target market, and what they value in a product or service. This could include conducting surveys or interviews, studying market trends, or analyzing competitors.\\n\\n2. **Quantifying Value**: The next step is to quantify the value the product offers. This could be in terms of time saved, cost reductions, or other measurable benefits.\\n\\n3. **Set Price**: The price is then set based on this value. For instance, if the product saves a customer $100, the price could be set at $50, offering the customer a clear net benefit.\\n\\n4. **Communicate Value**: The company must then effectively communicate this value to customers. This could be done through marketing, sales pitches, or other methods of communication.\\n\\n5. **Review**: Finally, the price must be regularly reviewed and adjusted based on changes in the market or the value the product provides.\\n\\nValue-based pricing has the potential to increase profitability, as it allows a company to charge more for its product. However, it also requires a deep understanding of customers' perceived value, and it might be more challenging to implement than other pricing strategies due to the need for extensive market research and continuous updates.\", additional_kwargs={}, example=False)]\n"
     ]
    }
   ],
   "source": [
    "# Set up the first prompt template\n",
    "from langchain.prompts import (\n",
    "    ChatPromptTemplate,\n",
    "    SystemMessagePromptTemplate,\n",
    "    HumanMessagePromptTemplate,\n",
    ")\n",
    "\n",
    "# create a string template for a System role\n",
    "system_template = \"\"\"You will provided with the sample text.\n",
    "Your task is to rewrite the text into a different writing style.\n",
    "The writing style is: \n",
    "- Concise and to the point\n",
    "- Professional and knowledgeable tone\n",
    "- Relatable and accessible language\n",
    "- Uses storytelling to convey ideas\n",
    "- Relies on examples and case studies\n",
    "- Mixes personal anecdotes with industry insights\n",
    "- Provides actionable advice and tips\n",
    "- Uses subheadings and bullet points for easy readability\n",
    "\"\"\"\n",
    "# create a prompt template for a System role\n",
    "system_message_prompt_template = SystemMessagePromptTemplate.from_template(\n",
    "    system_template)\n",
    "# create a string template for a Human role\n",
    "human_template = \"{input_text}\"\n",
    "# create a prompt template for a Human role\n",
    "human_message_prompt_template = HumanMessagePromptTemplate.from_template(human_template)\n",
    "# create chat prompt template out of one or several message prompt templates\n",
    "chat_prompt_template = ChatPromptTemplate.from_messages(\n",
    "    [system_message_prompt_template, human_message_prompt_template])\n",
    "# generate a final prompt by passing the variables\n",
    "final_prompt_template = chat_prompt_template.format_prompt(input_text=text)\n",
    "final_prompt = final_prompt_template.to_messages()\n",
    "\n",
    "print(final_prompt)"
   ]
  },
  {
   "cell_type": "code",
   "execution_count": 39,
   "metadata": {},
   "outputs": [],
   "source": [
    "# run n completions with a prompt and tags\n",
    "from langchain.chat_models import ChatOpenAI\n",
    "from langchain.callbacks.manager import tracing_v2_enabled\n",
    "import hashlib\n",
    "from dotenv import load_dotenv\n",
    "\n",
    "load_dotenv()\n",
    "\n",
    "# create the llm object\n",
    "chat = ChatOpenAI(model=\"gpt-4\", temperature=1)\n",
    "\n",
    "def gen_ex(prompt, test_runs=1):\n",
    "    # hash to get a unique id that will be the same if passed the same prompt\n",
    "    prompt_str = \"\"\n",
    "    for message in prompt:\n",
    "        prompt_str += f\"{message.type.capitalize()}: {message.content}\\n\\n\"\n",
    "    prompt_str = prompt_str[:-2] # Remove the last two \\n characters\n",
    "\n",
    "    prompt_id = hashlib.md5(prompt_str.encode()).hexdigest()\n",
    "\n",
    "    # create an object to store the results\n",
    "    results = []\n",
    "\n",
    "    # run n completions with the prompt and tags\n",
    "    for _ in range(test_runs):\n",
    "        with tracing_v2_enabled(project_name=\"content rewriter\", tags=[prompt_id]):\n",
    "            result = chat(prompt)\n",
    "            results.append(result)\n",
    "\n",
    "    return results\n",
    "\n",
    "results = gen_ex(final_prompt, test_runs=1)"
   ]
  },
  {
   "cell_type": "code",
   "execution_count": 40,
   "metadata": {},
   "outputs": [
    {
     "name": "stdout",
     "output_type": "stream",
     "text": [
      "**Shaping Prices, Directing Profits: The Art of Value-based Pricing**\n",
      "\n",
      "Let me tell you a little secret from the business world: there's a method of pricing that isn't bound by the shackles of production costs, market averages, competitor’s figures, or historical trends. It's called value-based pricing, and it's all about accurately assessing your customers’ perceived value of a product or service. \n",
      "\n",
      "Think of it like this: if you invented a software that saves its users an average of 10 hours each month, wouldn't it make more sense to price it according to how much that time-saving is worth to your customer, rather than the cost of developing that software? The answer to that might as well be your lightbulb moment.\n",
      "\n",
      "**The Nitty-Gritty of Value-based Pricing**\n",
      "\n",
      "To make sure you understand this technique, let me offer a concrete step-by-step guide:\n",
      "\n",
      "* **Know Thy Customer**: Start by getting under the skin of your target market. Use surveys, trend analysis, competitor studies, or even one-on-one interviews to really know what they value in a product.\n",
      " \n",
      "* **Putting a Number on Value**: Next up, calculate the value your product provides for your customer. Is it saving them time? Reducing expenses? \n",
      "\n",
      "* **Price it Right**: Here's where numbers come into play. If your product saves a customer $100, then a $50 price tag translates into a clear benefit for them.\n",
      "\n",
      "* **Sell the Value**: All that's left is making sure your customers understand just how much value they're getting. Use marketing campaigns, sales pitches, or any other communication strategy that works for your brand.\n",
      "\n",
      "* **Continuous Improvement**: Remember, the only constant in business is change. Regularly monitor the market to adjust pricing and maximize value.\n",
      "\n",
      "The beauty of value-based pricing lies in its potential to boost profitability. You can command higher prices because your pricing is based on value delivered, not costs incurred. But be aware: it demands you to dive deep into understanding your customers and regularly update your market information. But then again, if it was easy, everyone would do it, right?\n",
      "\n"
     ]
    }
   ],
   "source": [
    "print(results[0].content)"
   ]
  },
  {
   "cell_type": "code",
   "execution_count": 41,
   "metadata": {},
   "outputs": [
    {
     "name": "stdout",
     "output_type": "stream",
     "text": [
      "Prompt score: 0.08\n"
     ]
    }
   ],
   "source": [
    "from langchain.evaluation import load_evaluator\n",
    "\n",
    "evaluator = load_evaluator(\"embedding_distance\")\n",
    "\n",
    "prompt_score = evaluator.evaluate_strings(prediction=results[0].content, reference=reference)['score']\n",
    "print(f\"Prompt score: {prompt_score:.2f}\")"
   ]
  },
  {
   "cell_type": "code",
   "execution_count": 42,
   "metadata": {},
   "outputs": [],
   "source": [
    "# generate the results for the test run\n",
    "results_a = gen_ex(final_prompt, test_runs=20)"
   ]
  },
  {
   "cell_type": "code",
   "execution_count": 53,
   "metadata": {},
   "outputs": [
    {
     "name": "stdout",
     "output_type": "stream",
     "text": [
      "Run 1: 0.052\n",
      "Run 2: 0.056\n",
      "Run 3: 0.062\n",
      "Run 4: 0.050\n",
      "Run 5: 0.064\n",
      "Run 6: 0.077\n",
      "Run 7: 0.070\n",
      "Run 8: 0.065\n",
      "Run 9: 0.051\n",
      "Run 10: 0.075\n",
      "Run 11: 0.056\n",
      "Run 12: 0.064\n",
      "Run 13: 0.069\n",
      "Run 14: 0.065\n",
      "Run 15: 0.090\n",
      "Run 16: 0.054\n",
      "Run 17: 0.096\n",
      "Run 18: 0.066\n",
      "Run 19: 0.070\n",
      "Run 20: 0.051\n"
     ]
    }
   ],
   "source": [
    "# Tally up the scores for the test_runs\n",
    "\n",
    "import numpy as np\n",
    "all_scores = []\n",
    "\n",
    "for i in range(len(results_a)):\n",
    "    prompt_score = evaluator.evaluate_strings(prediction=results_a[i].content, reference=reference)['score']\n",
    "    all_scores.append(prompt_score)\n",
    "    print(f\"Run {i+1}: {prompt_score:.3f}\")\n"
   ]
  },
  {
   "cell_type": "code",
   "execution_count": 44,
   "metadata": {},
   "outputs": [
    {
     "name": "stdout",
     "output_type": "stream",
     "text": [
      "[SystemMessage(content='You will provided with the sample text.\\nYour task is to rewrite the text into a different writing style.\\nThe writing style is: \\n- Concise and to the point\\n- Professional and knowledgeable tone\\n- Relatable and accessible language\\n- Uses storytelling to convey ideas\\n- Relies on examples and case studies\\n- Mixes personal anecdotes with industry insights\\n- Provides actionable advice and tips\\n- Uses subheadings and bullet points for easy readability\\n', additional_kwargs={}), HumanMessage(content='Here is an example of the writing style:\\nHow Agencies Make Money\\nThere are three major metrics that determine how much money an agency makes. It’s important to understand each one and how it drives incentives.\\n\\nRevenue — how much do they charge clients?\\nVariable Costs — how much does it cost to service clients?\\nFixed Costs — what overheads do they have aside from client work?\\nRevenue\\nThere are lots of ways to charge for agency services, by the hour, based on value or as a retainer. Whatever way you pay, it always comes down to number of clients and average revenue per month per client. \\n\\nThe way the agency charges will affect their behavior, but only in that it will affect their risk of collecting payment. This always backs out to an expected value based on risk, so if there’s a $20,000 bonus payment with a 10% chance of success, that’s worth ~$2,000 in cash.\\n\\nVariable Costs\\nRegardless of how you make money, the number one cost of any agency is staff. They might be freelance or employed full time, but there is a fixed number of hours in a week, and an average capacity in terms of hours of work each client takes each month. Bonus payments, equity or other incentives can change behavior, but you can always put a risk-adjusted price on them and work out the effective hourly rate.\\n\\n\\nNow this is where you’re probably getting angry. You’re seeing that for the $5,000 a client paid, only $1,505 or 30% of it went to the person actually doing the work!? Worse, the charming, talented founder you wanted to work with in the sales meetings is barely going to be present, what with 39 other clients and a business to run. No wonder working with an agency feels like getting ripped off.\\n\\nFixed Costs\\nThis is where the agency model is made or broken. Small agencies have very few fixed costs, so don’t charge a big enough gross margin. Then as they grow, and need to layer on marketing, sales, HR, finance, etc, they are confronted with reality — they either go out of business, stop growing, or learn to charge more.\\n\\n\\nThese are just illustrative costs per client for a 40 client, 20 person agency collecting $200,000 a month. This isn’t exactly what Ladder paid (I don’t have access to those records anymore) but I made realistic assumptions based on my knowledge of the US market. Each cost is relatively small, but in real terms it means we’re down from 70% gross profit to 15% net margin.', additional_kwargs={}, example=False), AIMessage(content='Thank you for the example of the writing style. Now please provide the sample text.', additional_kwargs={}, example=False), HumanMessage(content=\"Value-based pricing is a strategy which sets prices primarily, but not exclusively, on the value, perceived or estimated, to the customer rather than on the cost of the product, the market price, competitors' prices, or historical trends. The primary aim of a value-based pricing approach is to break free from cost-plus pricing and focus on the value that a product or service delivers to a customer.\\n\\nIn value-based pricing, a business conducts research to understand how customers value their product, what features are most important to customers, and how they rank against competitive offerings. For example, if a software company finds out that their product saves an average customer 10 hours a month, they might price their product based on a portion of how much that time is worth to the customer. \\n\\nThe steps in implementing a value-based pricing strategy typically include:\\n\\n1. **Understanding the Customer**: The company needs to understand the target market, and what they value in a product or service. This could include conducting surveys or interviews, studying market trends, or analyzing competitors.\\n\\n2. **Quantifying Value**: The next step is to quantify the value the product offers. This could be in terms of time saved, cost reductions, or other measurable benefits.\\n\\n3. **Set Price**: The price is then set based on this value. For instance, if the product saves a customer $100, the price could be set at $50, offering the customer a clear net benefit.\\n\\n4. **Communicate Value**: The company must then effectively communicate this value to customers. This could be done through marketing, sales pitches, or other methods of communication.\\n\\n5. **Review**: Finally, the price must be regularly reviewed and adjusted based on changes in the market or the value the product provides.\\n\\nValue-based pricing has the potential to increase profitability, as it allows a company to charge more for its product. However, it also requires a deep understanding of customers' perceived value, and it might be more challenging to implement than other pricing strategies due to the need for extensive market research and continuous updates.\", additional_kwargs={}, example=False)]\n"
     ]
    }
   ],
   "source": [
    "# create new prompt to test\n",
    "from langchain.prompts import AIMessagePromptTemplate\n",
    "\n",
    "# import the example from texts/example.txt\n",
    "with open(\"texts/example.txt\", \"r\") as f:\n",
    "    example = f.read()\n",
    "\n",
    "# create a string template for a System role\n",
    "system_template_b = \"\"\"You will provided with the sample text.\n",
    "Your task is to rewrite the text into a different writing style.\n",
    "The writing style is: \n",
    "- Concise and to the point\n",
    "- Professional and knowledgeable tone\n",
    "- Relatable and accessible language\n",
    "- Uses storytelling to convey ideas\n",
    "- Relies on examples and case studies\n",
    "- Mixes personal anecdotes with industry insights\n",
    "- Provides actionable advice and tips\n",
    "- Uses subheadings and bullet points for easy readability\n",
    "\"\"\"\n",
    "# create a prompt template for a System role\n",
    "system_message_prompt_template_b = SystemMessagePromptTemplate.from_template(\n",
    "    system_template_b)\n",
    "\n",
    "# create a string template for a Human role\n",
    "human_template = \"Here is an example of the writing style:\\n{example}\"\n",
    "# create a prompt template for a Human role\n",
    "human_message_prompt_template_b = HumanMessagePromptTemplate.from_template(human_template)\n",
    "\n",
    "# create a string template for an AI role\n",
    "ai_template = \"Thank you for the example of the writing style. Now please provide the sample text.\"\n",
    "\n",
    "# create a prompt template for an AI role\n",
    "ai_message_prompt_template = AIMessagePromptTemplate.from_template(ai_template)\n",
    "\n",
    "# create chat prompt template out of one or several message prompt templates\n",
    "chat_prompt_template_b = ChatPromptTemplate.from_messages(\n",
    "    [system_message_prompt_template_b, human_message_prompt_template_b, ai_message_prompt_template, human_message_prompt_template]) # human_message_prompt_template defined earlier\n",
    "# generate a final prompt by passing the variables\n",
    "final_prompt_template_b = chat_prompt_template_b.format_prompt(input_text=text, example=example)\n",
    "final_prompt_b = final_prompt_template_b.to_messages()\n",
    "\n",
    "print(final_prompt_b)"
   ]
  },
  {
   "cell_type": "code",
   "execution_count": 45,
   "metadata": {},
   "outputs": [],
   "source": [
    "# generate the test_runs for the given prompt\n",
    "results_b = gen_ex(final_prompt_b, test_runs=20)"
   ]
  },
  {
   "cell_type": "code",
   "execution_count": 54,
   "metadata": {},
   "outputs": [
    {
     "name": "stdout",
     "output_type": "stream",
     "text": [
      "Run 1: 0.063\n",
      "Run 2: 0.072\n",
      "Run 3: 0.065\n",
      "Run 4: 0.055\n",
      "Run 5: 0.053\n",
      "Run 6: 0.077\n",
      "Run 7: 0.076\n",
      "Run 8: 0.067\n",
      "Run 9: 0.068\n",
      "Run 10: 0.072\n",
      "Run 11: 0.061\n",
      "Run 12: 0.056\n",
      "Run 13: 0.065\n",
      "Run 14: 0.051\n",
      "Run 15: 0.058\n",
      "Run 16: 0.059\n",
      "Run 17: 0.096\n",
      "Run 18: 0.066\n",
      "Run 19: 0.057\n",
      "Run 20: 0.062\n"
     ]
    }
   ],
   "source": [
    "# tally up the scores\n",
    "all_scores_b = []\n",
    "\n",
    "for i in range(len(results_b)):\n",
    "    prompt_score = evaluator.evaluate_strings(prediction=results_b[i].content, reference=reference)['score']\n",
    "    all_scores_b.append(prompt_score)\n",
    "    print(f\"Run {i+1}: {prompt_score:.3f}\")"
   ]
  },
  {
   "cell_type": "code",
   "execution_count": 57,
   "metadata": {},
   "outputs": [
    {
     "name": "stdout",
     "output_type": "stream",
     "text": [
      "\n",
      "Average A: 0.06509\n",
      "\n",
      "Average B: 0.06502\n"
     ]
    }
   ],
   "source": [
    "# print the average of the vs_baseline scores\n",
    "print(f\"\\nAverage A: {np.mean(all_scores):.5f}\")\n",
    "print(f\"\\nAverage B: {np.mean(all_scores_b):.5f}\")"
   ]
  },
  {
   "cell_type": "code",
   "execution_count": 74,
   "metadata": {},
   "outputs": [
    {
     "data": {
      "text/html": [
       "<div>\n",
       "<style scoped>\n",
       "    .dataframe tbody tr th:only-of-type {\n",
       "        vertical-align: middle;\n",
       "    }\n",
       "\n",
       "    .dataframe tbody tr th {\n",
       "        vertical-align: top;\n",
       "    }\n",
       "\n",
       "    .dataframe thead th {\n",
       "        text-align: right;\n",
       "    }\n",
       "</style>\n",
       "<table border=\"1\" class=\"dataframe\">\n",
       "  <thead>\n",
       "    <tr style=\"text-align: right;\">\n",
       "      <th></th>\n",
       "      <th>Prompt A</th>\n",
       "      <th>Prompt B</th>\n",
       "    </tr>\n",
       "  </thead>\n",
       "  <tbody>\n",
       "    <tr>\n",
       "      <th>1</th>\n",
       "      <td>0.052</td>\n",
       "      <td>0.063</td>\n",
       "    </tr>\n",
       "    <tr>\n",
       "      <th>2</th>\n",
       "      <td>0.056</td>\n",
       "      <td>0.072</td>\n",
       "    </tr>\n",
       "    <tr>\n",
       "      <th>3</th>\n",
       "      <td>0.062</td>\n",
       "      <td>0.065</td>\n",
       "    </tr>\n",
       "    <tr>\n",
       "      <th>4</th>\n",
       "      <td>0.050</td>\n",
       "      <td>0.055</td>\n",
       "    </tr>\n",
       "    <tr>\n",
       "      <th>5</th>\n",
       "      <td>0.064</td>\n",
       "      <td>0.053</td>\n",
       "    </tr>\n",
       "    <tr>\n",
       "      <th>6</th>\n",
       "      <td>0.077</td>\n",
       "      <td>0.077</td>\n",
       "    </tr>\n",
       "    <tr>\n",
       "      <th>7</th>\n",
       "      <td>0.070</td>\n",
       "      <td>0.076</td>\n",
       "    </tr>\n",
       "    <tr>\n",
       "      <th>8</th>\n",
       "      <td>0.065</td>\n",
       "      <td>0.067</td>\n",
       "    </tr>\n",
       "    <tr>\n",
       "      <th>9</th>\n",
       "      <td>0.051</td>\n",
       "      <td>0.068</td>\n",
       "    </tr>\n",
       "    <tr>\n",
       "      <th>10</th>\n",
       "      <td>0.075</td>\n",
       "      <td>0.072</td>\n",
       "    </tr>\n",
       "    <tr>\n",
       "      <th>11</th>\n",
       "      <td>0.056</td>\n",
       "      <td>0.061</td>\n",
       "    </tr>\n",
       "    <tr>\n",
       "      <th>12</th>\n",
       "      <td>0.064</td>\n",
       "      <td>0.056</td>\n",
       "    </tr>\n",
       "    <tr>\n",
       "      <th>13</th>\n",
       "      <td>0.069</td>\n",
       "      <td>0.065</td>\n",
       "    </tr>\n",
       "    <tr>\n",
       "      <th>14</th>\n",
       "      <td>0.065</td>\n",
       "      <td>0.051</td>\n",
       "    </tr>\n",
       "    <tr>\n",
       "      <th>15</th>\n",
       "      <td>0.090</td>\n",
       "      <td>0.058</td>\n",
       "    </tr>\n",
       "    <tr>\n",
       "      <th>16</th>\n",
       "      <td>0.054</td>\n",
       "      <td>0.059</td>\n",
       "    </tr>\n",
       "    <tr>\n",
       "      <th>17</th>\n",
       "      <td>0.096</td>\n",
       "      <td>0.096</td>\n",
       "    </tr>\n",
       "    <tr>\n",
       "      <th>18</th>\n",
       "      <td>0.066</td>\n",
       "      <td>0.066</td>\n",
       "    </tr>\n",
       "    <tr>\n",
       "      <th>19</th>\n",
       "      <td>0.070</td>\n",
       "      <td>0.057</td>\n",
       "    </tr>\n",
       "    <tr>\n",
       "      <th>20</th>\n",
       "      <td>0.051</td>\n",
       "      <td>0.062</td>\n",
       "    </tr>\n",
       "    <tr>\n",
       "      <th>mean</th>\n",
       "      <td>0.065</td>\n",
       "      <td>0.065</td>\n",
       "    </tr>\n",
       "  </tbody>\n",
       "</table>\n",
       "</div>"
      ],
      "text/plain": [
       "     Prompt A Prompt B\n",
       "1       0.052    0.063\n",
       "2       0.056    0.072\n",
       "3       0.062    0.065\n",
       "4       0.050    0.055\n",
       "5       0.064    0.053\n",
       "6       0.077    0.077\n",
       "7       0.070    0.076\n",
       "8       0.065    0.067\n",
       "9       0.051    0.068\n",
       "10      0.075    0.072\n",
       "11      0.056    0.061\n",
       "12      0.064    0.056\n",
       "13      0.069    0.065\n",
       "14      0.065    0.051\n",
       "15      0.090    0.058\n",
       "16      0.054    0.059\n",
       "17      0.096    0.096\n",
       "18      0.066    0.066\n",
       "19      0.070    0.057\n",
       "20      0.051    0.062\n",
       "mean    0.065    0.065"
      ]
     },
     "execution_count": 74,
     "metadata": {},
     "output_type": "execute_result"
    }
   ],
   "source": [
    "import pandas as pd\n",
    "\n",
    "df = pd.DataFrame({'Prompt A': all_scores, 'Prompt B': all_scores_b}, index=range(1, len(all_scores_b)+1))\n",
    "\n",
    "# calculate the mean of each column\n",
    "df.loc['mean'] = df.mean()\n",
    "\n",
    "# format dataframe to 2 decimal places\n",
    "df = df.applymap(lambda x: \"{0:.3f}\".format(x))\n",
    "\n",
    "df\n",
    "\n"
   ]
  },
  {
   "cell_type": "code",
   "execution_count": null,
   "metadata": {},
   "outputs": [],
   "source": []
  }
 ],
 "metadata": {
  "kernelspec": {
   "display_name": "Python 3",
   "language": "python",
   "name": "python3"
  },
  "language_info": {
   "codemirror_mode": {
    "name": "ipython",
    "version": 3
   },
   "file_extension": ".py",
   "mimetype": "text/x-python",
   "name": "python",
   "nbconvert_exporter": "python",
   "pygments_lexer": "ipython3",
   "version": "3.9.6"
  },
  "orig_nbformat": 4
 },
 "nbformat": 4,
 "nbformat_minor": 2
}
